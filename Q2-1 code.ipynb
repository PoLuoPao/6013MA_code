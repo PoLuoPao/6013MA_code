{
 "cells": [
  {
   "cell_type": "code",
   "execution_count": 1,
   "id": "839efc08-1266-4a65-8097-54468a3f80a4",
   "metadata": {},
   "outputs": [],
   "source": [
    "import pandas as pd"
   ]
  },
  {
   "cell_type": "code",
   "execution_count": 9,
   "id": "c2cecc3c-7ad9-42fa-a77b-c2ef7ad75444",
   "metadata": {},
   "outputs": [
    {
     "name": "stdout",
     "output_type": "stream",
     "text": [
      "     order_ID     user_ID      sku_ID  order_date             order_time  \\\n",
      "0  d0cf5cc6db  0abe9ef2ce  581d5b54c1  2018-03-01  2018-03-01 17:14:25.0   \n",
      "1  7444318d01  33a9e56257  067b673f2b  2018-03-01  2018-03-01 11:10:40.0   \n",
      "2  f973b01694  4ea3cf408f  623d0a582a  2018-03-01  2018-03-01 09:13:26.0   \n",
      "3  8c1cec8d4b  b87cb736cb  fc5289b139  2018-03-01  2018-03-01 21:29:50.0   \n",
      "4  d43a33c38a  4829223b6f  623d0a582a  2018-03-01  2018-03-01 19:13:37.0   \n",
      "\n",
      "   quantity  type promise  original_unit_price  final_unit_price  ...  dc_des  \\\n",
      "0         1     2       -                 89.0              79.0  ...      28   \n",
      "1         1     1       2                 99.9              53.9  ...      28   \n",
      "2         1     1       2                 78.0              58.5  ...      28   \n",
      "3         1     1       2                 61.0              35.0  ...      28   \n",
      "4         1     1       1                 78.0              53.0  ...      16   \n",
      "\n",
      "   user_level  first_order_month  plus  gender    age  marital_status  \\\n",
      "0           1            2013-06     0       F  36-45               M   \n",
      "1           1            2016-05     0       F  26-35               S   \n",
      "2           2            2013-02     0       F  16-25               S   \n",
      "3           3            2014-08     0       F  26-35               M   \n",
      "4           1            2014-10     0       F  26-35               M   \n",
      "\n",
      "   education city_level  purchase_power  \n",
      "0          3          2               2  \n",
      "1          2          2               3  \n",
      "2          2          2               2  \n",
      "3          3          2               2  \n",
      "4          2          2               4  \n",
      "\n",
      "[5 rows x 26 columns]\n"
     ]
    }
   ],
   "source": [
    "file_path_1 = '/Users/zhanghongxu/Downloads/CustomerProject/JD_order_data.csv'\n",
    "df_order = pd.read_csv(file_path_1)\n",
    "\n",
    "file_path_2 = '/Users/zhanghongxu/Downloads/CustomerProject/JD_user_data.csv'\n",
    "df_user = pd.read_csv(file_path_2)\n",
    "\n",
    "df = pd.merge(df_order, df_user, on='user_ID')\n",
    "\n",
    "print(df.head())"
   ]
  },
  {
   "cell_type": "code",
   "execution_count": 11,
   "id": "50a0efd0-af52-406b-a348-279ca43fd591",
   "metadata": {},
   "outputs": [],
   "source": [
    "plus = df[df['plus'] == 1]\n",
    "notplus = df[df['plus'] == 0]"
   ]
  },
  {
   "cell_type": "code",
   "execution_count": 31,
   "id": "0a392689-0f26-4374-943f-0e80d658dbc4",
   "metadata": {},
   "outputs": [],
   "source": [
    "f_p = plus['final_unit_price']\n",
    "f_np = notplus['final_unit_price']"
   ]
  },
  {
   "cell_type": "code",
   "execution_count": 33,
   "id": "4736da8c-74d1-4a5a-82c9-4bbaa27e6d67",
   "metadata": {},
   "outputs": [
    {
     "name": "stdout",
     "output_type": "stream",
     "text": [
      "80.35187528713371\n",
      "69.60548082535034\n"
     ]
    }
   ],
   "source": [
    "mean_f_p = f_p.mean()\n",
    "mean_f_np = f_np.mean()\n",
    "\n",
    "print(mean_f_p)\n",
    "print(mean_f_np)"
   ]
  },
  {
   "cell_type": "code",
   "execution_count": 29,
   "id": "378bf2ab-7b49-493b-91d1-fb98795ca208",
   "metadata": {},
   "outputs": [],
   "source": [
    "from scipy.stats import ttest_ind\n",
    "from scipy.stats import mannwhitneyu"
   ]
  },
  {
   "cell_type": "code",
   "execution_count": 39,
   "id": "ec4deb75-f47f-4549-b904-72af9ef1ef9d",
   "metadata": {},
   "outputs": [
    {
     "data": {
      "text/plain": [
       "TtestResult(statistic=33.74473217046411, pvalue=1.6379070767017376e-248, df=126523.80558810337)"
      ]
     },
     "execution_count": 39,
     "metadata": {},
     "output_type": "execute_result"
    }
   ],
   "source": [
    "ttest_ind(f_p, f_np, equal_var = False)"
   ]
  },
  {
   "cell_type": "code",
   "execution_count": 41,
   "id": "aeabd4db-0a95-4a60-9ef4-13440bb0ba0f",
   "metadata": {},
   "outputs": [
    {
     "data": {
      "text/plain": [
       "MannwhitneyuResult(statistic=23813292174.5, pvalue=1.1900084083779968e-152)"
      ]
     },
     "execution_count": 41,
     "metadata": {},
     "output_type": "execute_result"
    }
   ],
   "source": [
    "mannwhitneyu(f_p, f_np, alternative = 'two-sided')"
   ]
  },
  {
   "cell_type": "code",
   "execution_count": 57,
   "id": "4e266d92-5da9-41ee-affe-925c16e7d76e",
   "metadata": {},
   "outputs": [
    {
     "name": "stderr",
     "output_type": "stream",
     "text": [
      "/var/folders/w4/kry90djd25l1bcclv6_2szh00000gn/T/ipykernel_97717/472696698.py:2: SettingWithCopyWarning: \n",
      "A value is trying to be set on a copy of a slice from a DataFrame.\n",
      "Try using .loc[row_indexer,col_indexer] = value instead\n",
      "\n",
      "See the caveats in the documentation: https://pandas.pydata.org/pandas-docs/stable/user_guide/indexing.html#returning-a-view-versus-a-copy\n",
      "  plus['price_ratio'] = plus['final_unit_price']/plus['original_unit_price']\n",
      "/var/folders/w4/kry90djd25l1bcclv6_2szh00000gn/T/ipykernel_97717/472696698.py:3: SettingWithCopyWarning: \n",
      "A value is trying to be set on a copy of a slice from a DataFrame.\n",
      "Try using .loc[row_indexer,col_indexer] = value instead\n",
      "\n",
      "See the caveats in the documentation: https://pandas.pydata.org/pandas-docs/stable/user_guide/indexing.html#returning-a-view-versus-a-copy\n",
      "  notplus['price_ratio'] = notplus['final_unit_price']/notplus['original_unit_price']\n"
     ]
    }
   ],
   "source": [
    "# calculate a ratio: final/original\n",
    "plus['price_ratio'] = plus['final_unit_price']/plus['original_unit_price']\n",
    "notplus['price_ratio'] = notplus['final_unit_price']/notplus['original_unit_price']"
   ]
  },
  {
   "cell_type": "code",
   "execution_count": 63,
   "id": "41e8265f-28c4-4d57-93ab-23e0a97f0455",
   "metadata": {},
   "outputs": [
    {
     "data": {
      "text/html": [
       "<div>\n",
       "<style scoped>\n",
       "    .dataframe tbody tr th:only-of-type {\n",
       "        vertical-align: middle;\n",
       "    }\n",
       "\n",
       "    .dataframe tbody tr th {\n",
       "        vertical-align: top;\n",
       "    }\n",
       "\n",
       "    .dataframe thead th {\n",
       "        text-align: right;\n",
       "    }\n",
       "</style>\n",
       "<table border=\"1\" class=\"dataframe\">\n",
       "  <thead>\n",
       "    <tr style=\"text-align: right;\">\n",
       "      <th></th>\n",
       "      <th>order_ID</th>\n",
       "      <th>user_ID</th>\n",
       "      <th>sku_ID</th>\n",
       "      <th>order_date</th>\n",
       "      <th>order_time</th>\n",
       "      <th>quantity</th>\n",
       "      <th>type</th>\n",
       "      <th>promise</th>\n",
       "      <th>original_unit_price</th>\n",
       "      <th>final_unit_price</th>\n",
       "      <th>...</th>\n",
       "      <th>first_order_month</th>\n",
       "      <th>plus</th>\n",
       "      <th>gender</th>\n",
       "      <th>age</th>\n",
       "      <th>marital_status</th>\n",
       "      <th>education</th>\n",
       "      <th>city_level</th>\n",
       "      <th>purchase_power</th>\n",
       "      <th>ratio1_p</th>\n",
       "      <th>price_ratio</th>\n",
       "    </tr>\n",
       "  </thead>\n",
       "  <tbody>\n",
       "    <tr>\n",
       "      <th>9</th>\n",
       "      <td>9c65b6264b</td>\n",
       "      <td>2021a86702</td>\n",
       "      <td>068f4481b3</td>\n",
       "      <td>2018-03-01</td>\n",
       "      <td>2018-03-01 00:12:07.0</td>\n",
       "      <td>1</td>\n",
       "      <td>1</td>\n",
       "      <td>1</td>\n",
       "      <td>298.0</td>\n",
       "      <td>208.0</td>\n",
       "      <td>...</td>\n",
       "      <td>2017-10</td>\n",
       "      <td>1</td>\n",
       "      <td>F</td>\n",
       "      <td>16-25</td>\n",
       "      <td>U</td>\n",
       "      <td>3</td>\n",
       "      <td>4</td>\n",
       "      <td>-1</td>\n",
       "      <td>0.697987</td>\n",
       "      <td>0.697987</td>\n",
       "    </tr>\n",
       "    <tr>\n",
       "      <th>10</th>\n",
       "      <td>9c65b6264b</td>\n",
       "      <td>2021a86702</td>\n",
       "      <td>d3e31fdd6e</td>\n",
       "      <td>2018-03-01</td>\n",
       "      <td>2018-03-01 00:12:07.0</td>\n",
       "      <td>2</td>\n",
       "      <td>1</td>\n",
       "      <td>1</td>\n",
       "      <td>0.0</td>\n",
       "      <td>0.0</td>\n",
       "      <td>...</td>\n",
       "      <td>2017-10</td>\n",
       "      <td>1</td>\n",
       "      <td>F</td>\n",
       "      <td>16-25</td>\n",
       "      <td>U</td>\n",
       "      <td>3</td>\n",
       "      <td>4</td>\n",
       "      <td>-1</td>\n",
       "      <td>NaN</td>\n",
       "      <td>NaN</td>\n",
       "    </tr>\n",
       "    <tr>\n",
       "      <th>14</th>\n",
       "      <td>11bb010740</td>\n",
       "      <td>e5b7eff416</td>\n",
       "      <td>6e18cb9666</td>\n",
       "      <td>2018-03-01</td>\n",
       "      <td>2018-03-01 10:05:56.0</td>\n",
       "      <td>1</td>\n",
       "      <td>1</td>\n",
       "      <td>3</td>\n",
       "      <td>269.0</td>\n",
       "      <td>169.0</td>\n",
       "      <td>...</td>\n",
       "      <td>2013-08</td>\n",
       "      <td>1</td>\n",
       "      <td>F</td>\n",
       "      <td>26-35</td>\n",
       "      <td>M</td>\n",
       "      <td>4</td>\n",
       "      <td>2</td>\n",
       "      <td>2</td>\n",
       "      <td>0.628253</td>\n",
       "      <td>0.628253</td>\n",
       "    </tr>\n",
       "    <tr>\n",
       "      <th>21</th>\n",
       "      <td>37327053be</td>\n",
       "      <td>e278593de1</td>\n",
       "      <td>90a8e42962</td>\n",
       "      <td>2018-03-01</td>\n",
       "      <td>2018-03-01 18:32:38.0</td>\n",
       "      <td>1</td>\n",
       "      <td>2</td>\n",
       "      <td>-</td>\n",
       "      <td>238.0</td>\n",
       "      <td>94.0</td>\n",
       "      <td>...</td>\n",
       "      <td>2013-02</td>\n",
       "      <td>1</td>\n",
       "      <td>F</td>\n",
       "      <td>26-35</td>\n",
       "      <td>S</td>\n",
       "      <td>3</td>\n",
       "      <td>2</td>\n",
       "      <td>2</td>\n",
       "      <td>0.394958</td>\n",
       "      <td>0.394958</td>\n",
       "    </tr>\n",
       "    <tr>\n",
       "      <th>22</th>\n",
       "      <td>d63faad1e8</td>\n",
       "      <td>1aa3eb1f80</td>\n",
       "      <td>6420ea9ac2</td>\n",
       "      <td>2018-03-01</td>\n",
       "      <td>2018-03-01 18:55:36.0</td>\n",
       "      <td>1</td>\n",
       "      <td>1</td>\n",
       "      <td>1</td>\n",
       "      <td>579.0</td>\n",
       "      <td>391.0</td>\n",
       "      <td>...</td>\n",
       "      <td>2011-09</td>\n",
       "      <td>1</td>\n",
       "      <td>F</td>\n",
       "      <td>46-55</td>\n",
       "      <td>M</td>\n",
       "      <td>4</td>\n",
       "      <td>2</td>\n",
       "      <td>2</td>\n",
       "      <td>0.675302</td>\n",
       "      <td>0.675302</td>\n",
       "    </tr>\n",
       "  </tbody>\n",
       "</table>\n",
       "<p>5 rows × 28 columns</p>\n",
       "</div>"
      ],
      "text/plain": [
       "      order_ID     user_ID      sku_ID  order_date             order_time  \\\n",
       "9   9c65b6264b  2021a86702  068f4481b3  2018-03-01  2018-03-01 00:12:07.0   \n",
       "10  9c65b6264b  2021a86702  d3e31fdd6e  2018-03-01  2018-03-01 00:12:07.0   \n",
       "14  11bb010740  e5b7eff416  6e18cb9666  2018-03-01  2018-03-01 10:05:56.0   \n",
       "21  37327053be  e278593de1  90a8e42962  2018-03-01  2018-03-01 18:32:38.0   \n",
       "22  d63faad1e8  1aa3eb1f80  6420ea9ac2  2018-03-01  2018-03-01 18:55:36.0   \n",
       "\n",
       "    quantity  type promise  original_unit_price  final_unit_price  ...  \\\n",
       "9          1     1       1                298.0             208.0  ...   \n",
       "10         2     1       1                  0.0               0.0  ...   \n",
       "14         1     1       3                269.0             169.0  ...   \n",
       "21         1     2       -                238.0              94.0  ...   \n",
       "22         1     1       1                579.0             391.0  ...   \n",
       "\n",
       "    first_order_month  plus  gender    age  marital_status  education  \\\n",
       "9             2017-10     1       F  16-25               U          3   \n",
       "10            2017-10     1       F  16-25               U          3   \n",
       "14            2013-08     1       F  26-35               M          4   \n",
       "21            2013-02     1       F  26-35               S          3   \n",
       "22            2011-09     1       F  46-55               M          4   \n",
       "\n",
       "    city_level  purchase_power  ratio1_p  price_ratio  \n",
       "9            4              -1  0.697987     0.697987  \n",
       "10           4              -1       NaN          NaN  \n",
       "14           2               2  0.628253     0.628253  \n",
       "21           2               2  0.394958     0.394958  \n",
       "22           2               2  0.675302     0.675302  \n",
       "\n",
       "[5 rows x 28 columns]"
      ]
     },
     "execution_count": 63,
     "metadata": {},
     "output_type": "execute_result"
    }
   ],
   "source": [
    "plus.head()"
   ]
  },
  {
   "cell_type": "code",
   "execution_count": 89,
   "id": "52375993-7f4b-4094-b979-3369b526405b",
   "metadata": {},
   "outputs": [],
   "source": [
    "plus1 = plus[plus['gift_item'] != 1]\n",
    "notplus1 = notplus[notplus['gift_item'] != 1]"
   ]
  },
  {
   "cell_type": "code",
   "execution_count": 91,
   "id": "2a83c6b0-95ab-45a9-b429-72ea151b1ea4",
   "metadata": {},
   "outputs": [
    {
     "name": "stdout",
     "output_type": "stream",
     "text": [
      "0.6585378337958995\n",
      "0.7219215799249015\n"
     ]
    }
   ],
   "source": [
    "r1_p = plus1['price_ratio']\n",
    "r1_np = notplus1['price_ratio']\n",
    "\n",
    "mean_r1_p = r1_p.mean()\n",
    "mean_r1_np = r1_np.mean()\n",
    "\n",
    "print(mean_r1_p)\n",
    "print(mean_r1_np)"
   ]
  },
  {
   "cell_type": "code",
   "execution_count": 93,
   "id": "550d285c-0849-484b-b0fe-2bc385069845",
   "metadata": {},
   "outputs": [
    {
     "data": {
      "text/plain": [
       "TtestResult(statistic=-76.28503951625527, pvalue=0.0, df=127017.43670360412)"
      ]
     },
     "execution_count": 93,
     "metadata": {},
     "output_type": "execute_result"
    }
   ],
   "source": [
    "ttest_ind(r1_p, r1_np, equal_var = False)"
   ]
  },
  {
   "cell_type": "code",
   "execution_count": 97,
   "id": "cc757862-9cfb-44e3-a8ca-2a97c97795b8",
   "metadata": {},
   "outputs": [
    {
     "name": "stdout",
     "output_type": "stream",
     "text": [
      "0.1603389038997952\n",
      "0.16700828253395314\n"
     ]
    },
    {
     "name": "stderr",
     "output_type": "stream",
     "text": [
      "/var/folders/w4/kry90djd25l1bcclv6_2szh00000gn/T/ipykernel_97717/1749200045.py:1: SettingWithCopyWarning: \n",
      "A value is trying to be set on a copy of a slice from a DataFrame.\n",
      "Try using .loc[row_indexer,col_indexer] = value instead\n",
      "\n",
      "See the caveats in the documentation: https://pandas.pydata.org/pandas-docs/stable/user_guide/indexing.html#returning-a-view-versus-a-copy\n",
      "  plus1['ratio_dd'] = plus1['direct_discount_per_unit']/plus1['original_unit_price']\n",
      "/var/folders/w4/kry90djd25l1bcclv6_2szh00000gn/T/ipykernel_97717/1749200045.py:2: SettingWithCopyWarning: \n",
      "A value is trying to be set on a copy of a slice from a DataFrame.\n",
      "Try using .loc[row_indexer,col_indexer] = value instead\n",
      "\n",
      "See the caveats in the documentation: https://pandas.pydata.org/pandas-docs/stable/user_guide/indexing.html#returning-a-view-versus-a-copy\n",
      "  notplus1['ratio_dd'] = notplus1['direct_discount_per_unit']/notplus1['original_unit_price']\n"
     ]
    }
   ],
   "source": [
    "plus1['ratio_dd'] = plus1['direct_discount_per_unit']/plus1['original_unit_price']\n",
    "notplus1['ratio_dd'] = notplus1['direct_discount_per_unit']/notplus1['original_unit_price']\n",
    "\n",
    "r2_p = plus1['ratio_dd']\n",
    "r2_np = notplus1['ratio_dd']\n",
    "\n",
    "mean_r2_p = r2_p.mean()\n",
    "mean_r2_np = r2_np.mean()\n",
    "\n",
    "print(mean_r2_p)\n",
    "print(mean_r2_np)"
   ]
  },
  {
   "cell_type": "code",
   "execution_count": 99,
   "id": "af3f8e11-afb9-4079-9ded-15866da081be",
   "metadata": {},
   "outputs": [
    {
     "name": "stdout",
     "output_type": "stream",
     "text": [
      "0.12674418823874903\n",
      "0.07798485590644129\n"
     ]
    },
    {
     "name": "stderr",
     "output_type": "stream",
     "text": [
      "/var/folders/w4/kry90djd25l1bcclv6_2szh00000gn/T/ipykernel_97717/1656131429.py:1: SettingWithCopyWarning: \n",
      "A value is trying to be set on a copy of a slice from a DataFrame.\n",
      "Try using .loc[row_indexer,col_indexer] = value instead\n",
      "\n",
      "See the caveats in the documentation: https://pandas.pydata.org/pandas-docs/stable/user_guide/indexing.html#returning-a-view-versus-a-copy\n",
      "  plus1['ratio_q'] = plus1['quantity_discount_per_unit']/plus1['original_unit_price']\n",
      "/var/folders/w4/kry90djd25l1bcclv6_2szh00000gn/T/ipykernel_97717/1656131429.py:2: SettingWithCopyWarning: \n",
      "A value is trying to be set on a copy of a slice from a DataFrame.\n",
      "Try using .loc[row_indexer,col_indexer] = value instead\n",
      "\n",
      "See the caveats in the documentation: https://pandas.pydata.org/pandas-docs/stable/user_guide/indexing.html#returning-a-view-versus-a-copy\n",
      "  notplus1['ratio_q'] = notplus1['quantity_discount_per_unit']/notplus1['original_unit_price']\n"
     ]
    }
   ],
   "source": [
    "plus1['ratio_q'] = plus1['quantity_discount_per_unit']/plus1['original_unit_price']\n",
    "notplus1['ratio_q'] = notplus1['quantity_discount_per_unit']/notplus1['original_unit_price']\n",
    "\n",
    "r3_p = plus1['ratio_q']\n",
    "r3_np = notplus1['ratio_q']\n",
    "\n",
    "mean_r3_p = r3_p.mean()\n",
    "mean_r3_np = r3_np.mean()\n",
    "\n",
    "print(mean_r3_p)\n",
    "print(mean_r3_np)"
   ]
  },
  {
   "cell_type": "code",
   "execution_count": 101,
   "id": "619bda3d-f4a4-48ed-a9f7-e8ddd11368eb",
   "metadata": {},
   "outputs": [
    {
     "name": "stdout",
     "output_type": "stream",
     "text": [
      "0.007240148212158797\n",
      "0.005010919451270148\n"
     ]
    },
    {
     "name": "stderr",
     "output_type": "stream",
     "text": [
      "/var/folders/w4/kry90djd25l1bcclv6_2szh00000gn/T/ipykernel_97717/1927871299.py:1: SettingWithCopyWarning: \n",
      "A value is trying to be set on a copy of a slice from a DataFrame.\n",
      "Try using .loc[row_indexer,col_indexer] = value instead\n",
      "\n",
      "See the caveats in the documentation: https://pandas.pydata.org/pandas-docs/stable/user_guide/indexing.html#returning-a-view-versus-a-copy\n",
      "  plus1['ratio_b'] = plus1['bundle_discount_per_unit']/plus1['original_unit_price']\n",
      "/var/folders/w4/kry90djd25l1bcclv6_2szh00000gn/T/ipykernel_97717/1927871299.py:2: SettingWithCopyWarning: \n",
      "A value is trying to be set on a copy of a slice from a DataFrame.\n",
      "Try using .loc[row_indexer,col_indexer] = value instead\n",
      "\n",
      "See the caveats in the documentation: https://pandas.pydata.org/pandas-docs/stable/user_guide/indexing.html#returning-a-view-versus-a-copy\n",
      "  notplus1['ratio_b'] = notplus1['bundle_discount_per_unit']/notplus1['original_unit_price']\n"
     ]
    }
   ],
   "source": [
    "plus1['ratio_b'] = plus1['bundle_discount_per_unit']/plus1['original_unit_price']\n",
    "notplus1['ratio_b'] = notplus1['bundle_discount_per_unit']/notplus1['original_unit_price']\n",
    "\n",
    "r4_p = plus1['ratio_b']\n",
    "r4_np = notplus1['ratio_b']\n",
    "\n",
    "mean_r4_p = r4_p.mean()\n",
    "mean_r4_np = r4_np.mean()\n",
    "\n",
    "print(mean_r4_p)\n",
    "print(mean_r4_np)"
   ]
  },
  {
   "cell_type": "code",
   "execution_count": 103,
   "id": "60af7469-9079-48d7-b1d7-5cfe47cae732",
   "metadata": {},
   "outputs": [
    {
     "name": "stdout",
     "output_type": "stream",
     "text": [
      "0.04713892585339752\n",
      "0.028074362183434117\n"
     ]
    },
    {
     "name": "stderr",
     "output_type": "stream",
     "text": [
      "/var/folders/w4/kry90djd25l1bcclv6_2szh00000gn/T/ipykernel_97717/3549448407.py:1: SettingWithCopyWarning: \n",
      "A value is trying to be set on a copy of a slice from a DataFrame.\n",
      "Try using .loc[row_indexer,col_indexer] = value instead\n",
      "\n",
      "See the caveats in the documentation: https://pandas.pydata.org/pandas-docs/stable/user_guide/indexing.html#returning-a-view-versus-a-copy\n",
      "  plus1['ratio_c'] = plus1['coupon_discount_per_unit']/plus1['original_unit_price']\n",
      "/var/folders/w4/kry90djd25l1bcclv6_2szh00000gn/T/ipykernel_97717/3549448407.py:2: SettingWithCopyWarning: \n",
      "A value is trying to be set on a copy of a slice from a DataFrame.\n",
      "Try using .loc[row_indexer,col_indexer] = value instead\n",
      "\n",
      "See the caveats in the documentation: https://pandas.pydata.org/pandas-docs/stable/user_guide/indexing.html#returning-a-view-versus-a-copy\n",
      "  notplus1['ratio_c'] = notplus1['coupon_discount_per_unit']/notplus1['original_unit_price']\n"
     ]
    }
   ],
   "source": [
    "plus1['ratio_c'] = plus1['coupon_discount_per_unit']/plus1['original_unit_price']\n",
    "notplus1['ratio_c'] = notplus1['coupon_discount_per_unit']/notplus1['original_unit_price']\n",
    "\n",
    "r5_p = plus1['ratio_c']\n",
    "r5_np = notplus1['ratio_c']\n",
    "\n",
    "mean_r5_p = r5_p.mean()\n",
    "mean_r5_np = r5_np.mean()\n",
    "\n",
    "print(mean_r5_p)\n",
    "print(mean_r5_np)"
   ]
  },
  {
   "cell_type": "code",
   "execution_count": 105,
   "id": "95668640-3d26-4cb7-8693-bdde0eb59719",
   "metadata": {},
   "outputs": [
    {
     "name": "stdout",
     "output_type": "stream",
     "text": [
      "                            OLS Regression Results                            \n",
      "==============================================================================\n",
      "Dep. Variable:               quantity   R-squared:                       0.007\n",
      "Model:                            OLS   Adj. R-squared:                  0.006\n",
      "Method:                 Least Squares   F-statistic:                     52.21\n",
      "Date:                Sat, 17 May 2025   Prob (F-statistic):          1.11e-115\n",
      "Time:                        11:26:41   Log-Likelihood:            -1.7101e+05\n",
      "No. Observations:               86246   AIC:                         3.420e+05\n",
      "Df Residuals:                   86234   BIC:                         3.422e+05\n",
      "Df Model:                          11                                         \n",
      "Covariance Type:            nonrobust                                         \n",
      "==============================================================================================\n",
      "                                 coef    std err          t      P>|t|      [0.025      0.975]\n",
      "----------------------------------------------------------------------------------------------\n",
      "Intercept                      1.1496      0.019     59.782      0.000       1.112       1.187\n",
      "age[T.26-35]                   0.0362      0.019      1.927      0.054      -0.001       0.073\n",
      "age[T.36-45]                   0.0563      0.021      2.709      0.007       0.016       0.097\n",
      "age[T.46-55]                   0.2964      0.035      8.509      0.000       0.228       0.365\n",
      "age[T.<=15]                    0.3185      0.879      0.362      0.717      -1.404       2.041\n",
      "age[T.>=56]                    0.1229      0.041      3.024      0.002       0.043       0.203\n",
      "age[T.U]                       0.0300      0.017      1.741      0.082      -0.004       0.064\n",
      "gender[T.M]                    0.0658      0.012      5.285      0.000       0.041       0.090\n",
      "gender[T.U]                    0.0300      0.017      1.741      0.082      -0.004       0.064\n",
      "direct_discount_per_unit      -0.0006      0.000     -3.393      0.001      -0.001      -0.000\n",
      "quantity_discount_per_unit     0.0047      0.000     18.291      0.000       0.004       0.005\n",
      "bundle_discount_per_unit    2.888e-05      0.001      0.041      0.967      -0.001       0.001\n",
      "coupon_discount_per_unit      -0.0035      0.000     -7.849      0.000      -0.004      -0.003\n",
      "==============================================================================\n",
      "Omnibus:                   274736.185   Durbin-Watson:                   1.806\n",
      "Prob(Omnibus):                  0.000   Jarque-Bera (JB):      62627312875.595\n",
      "Skew:                          51.747   Prob(JB):                         0.00\n",
      "Kurtosis:                    4176.347   Cond. No.                     1.73e+17\n",
      "==============================================================================\n",
      "\n",
      "Notes:\n",
      "[1] Standard Errors assume that the covariance matrix of the errors is correctly specified.\n",
      "[2] The smallest eigenvalue is 5.56e-27. This might indicate that there are\n",
      "strong multicollinearity problems or that the design matrix is singular.\n"
     ]
    }
   ],
   "source": [
    "import statsmodels.formula.api as smf\n",
    "\n",
    "model = smf.ols('quantity ~ direct_discount_per_unit + quantity_discount_per_unit + bundle_discount_per_unit + coupon_discount_per_unit + age + gender', data = plus1).fit()\n",
    "print(model.summary())"
   ]
  },
  {
   "cell_type": "code",
   "execution_count": 69,
   "id": "2dd69ffa-aa19-4e7c-b0dd-581918509604",
   "metadata": {},
   "outputs": [
    {
     "name": "stdout",
     "output_type": "stream",
     "text": [
      "86069\n"
     ]
    }
   ],
   "source": [
    "price_0 = (df['final_unit_price'] == 0).sum()\n",
    "print(price_0)"
   ]
  },
  {
   "cell_type": "code",
   "execution_count": 13,
   "id": "b04101f8-189c-42f4-a1a9-ebf2488e33ee",
   "metadata": {},
   "outputs": [
    {
     "data": {
      "text/plain": [
       "9         298.0\n",
       "10          0.0\n",
       "14        269.0\n",
       "21        238.0\n",
       "22        579.0\n",
       "          ...  \n",
       "549966    298.0\n",
       "549971    336.0\n",
       "549977    269.0\n",
       "549980      0.0\n",
       "549983      0.0\n",
       "Name: original_unit_price, Length: 100675, dtype: float64"
      ]
     },
     "execution_count": 13,
     "metadata": {},
     "output_type": "execute_result"
    }
   ],
   "source": [
    "plus['original_unit_price']\n",
    "'final_unit_price'\n",
    "'direct_discount_per_unit'"
   ]
  },
  {
   "cell_type": "code",
   "execution_count": null,
   "id": "1e7d9d88-3e84-498c-b746-0f809e9e5fc2",
   "metadata": {},
   "outputs": [],
   "source": []
  }
 ],
 "metadata": {
  "kernelspec": {
   "display_name": "Python 3 (ipykernel)",
   "language": "python",
   "name": "python3"
  },
  "language_info": {
   "codemirror_mode": {
    "name": "ipython",
    "version": 3
   },
   "file_extension": ".py",
   "mimetype": "text/x-python",
   "name": "python",
   "nbconvert_exporter": "python",
   "pygments_lexer": "ipython3",
   "version": "3.12.4"
  }
 },
 "nbformat": 4,
 "nbformat_minor": 5
}
