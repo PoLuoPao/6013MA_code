{
 "cells": [
  {
   "cell_type": "code",
   "execution_count": 74,
   "metadata": {},
   "outputs": [],
   "source": [
    "import pandas as pd\n",
    "import matplotlib.pyplot as plt"
   ]
  },
  {
   "cell_type": "code",
   "execution_count": 61,
   "metadata": {},
   "outputs": [],
   "source": [
    "# 设置图片清晰度\n",
    "plt.rcParams['figure.dpi'] = 300"
   ]
  },
  {
   "cell_type": "code",
   "execution_count": 75,
   "metadata": {},
   "outputs": [],
   "source": [
    "# 加载用户数据\n",
    "df_user = pd.read_csv('JD_user_data.csv')"
   ]
  },
  {
   "cell_type": "code",
   "execution_count": 92,
   "metadata": {},
   "outputs": [],
   "source": [
    "# 按照是否为 plus 用户分组计算平均购买能力\n",
    "grouped = df_user.groupby('plus')"
   ]
  },
  {
   "cell_type": "code",
   "execution_count": 93,
   "metadata": {},
   "outputs": [
    {
     "name": "stdout",
     "output_type": "stream",
     "text": [
      "\n",
      "purchase_power 的平均水平：\n",
      "plus 值为 0 的用户： 2.3815221823957415\n",
      "plus 值为 1 的用户： 2.064233236754967\n",
      "\n",
      "purchase_power 的分布比例：\n",
      "plus 值为 0 的用户：\n",
      "purchase_power\n",
      "2    60.803231\n",
      "3    32.756684\n",
      "4     3.875570\n",
      "1     2.512288\n",
      "5     0.052228\n",
      "Name: proportion, dtype: float64\n",
      "plus 值为 1 的用户：\n",
      "purchase_power\n",
      "2    89.632916\n",
      "3     8.175962\n",
      "1     2.046254\n",
      "4     0.140987\n",
      "5     0.003880\n",
      "Name: proportion, dtype: float64\n"
     ]
    }
   ],
   "source": [
    "# 计算 purchase_power 的平均水平和分布比例，忽略 -1 的数据\n",
    "purchase_power_avg = {}\n",
    "purchase_power_distribution = {}\n",
    "for plus_value, group in grouped:\n",
    "    filtered_group = group[group['purchase_power'] != -1]\n",
    "    purchase_power_avg[plus_value] = filtered_group['purchase_power'].mean()\n",
    "    purchase_power_distribution[plus_value] = filtered_group['purchase_power'].value_counts(normalize=True) * 100\n",
    "print('\\npurchase_power 的平均水平：')\n",
    "for plus_value, avg in purchase_power_avg.items():\n",
    "    print(f'plus 值为 {plus_value} 的用户：', avg)\n",
    "print('\\npurchase_power 的分布比例：')\n",
    "for plus_value, dist in purchase_power_distribution.items():\n",
    "    print(f'plus 值为 {plus_value} 的用户：')\n",
    "    print(dist)\n"
   ]
  },
  {
   "cell_type": "code",
   "execution_count": 82,
   "metadata": {},
   "outputs": [
    {
     "name": "stdout",
     "output_type": "stream",
     "text": [
      "gender 的分布比例：\n",
      "plus 值为 0 的用户：\n",
      "gender\n",
      "F    66.004857\n",
      "M    19.673595\n",
      "U    14.321548\n",
      "Name: proportion, dtype: float64\n",
      "plus 值为 1 的用户：\n",
      "gender\n",
      "F    54.959484\n",
      "M    40.817234\n",
      "U     4.223282\n",
      "Name: proportion, dtype: float64\n"
     ]
    }
   ],
   "source": [
    "# 计算 gender 的分布比例\n",
    "gender_distribution = {}\n",
    "for plus_value, group in grouped:\n",
    "    gender_distribution[plus_value] = group['gender'].value_counts(normalize=True) * 100\n",
    "print('gender 的分布比例：')\n",
    "for plus_value, dist in gender_distribution.items():\n",
    "    print(f'plus 值为 {plus_value} 的用户：')\n",
    "    print(dist)"
   ]
  },
  {
   "cell_type": "code",
   "execution_count": 91,
   "metadata": {},
   "outputs": [
    {
     "name": "stdout",
     "output_type": "stream",
     "text": [
      "gender 的分布比例：\n",
      "plus 值为 0 的用户：\n",
      "gender\n",
      "F    77.037873\n",
      "M    22.962127\n",
      "Name: proportion, dtype: float64\n",
      "plus 值为 1 的用户：\n",
      "gender\n",
      "F    57.382927\n",
      "M    42.617073\n",
      "Name: proportion, dtype: float64\n"
     ]
    }
   ],
   "source": [
    "# 计算 gender 的分布比例\n",
    "gender_distribution = {}\n",
    "for plus_value, group in grouped:\n",
    "    filtered_group = group[group['gender'] != 'U']\n",
    "    gender_distribution[plus_value] = filtered_group['gender'].value_counts(normalize=True) * 100\n",
    "print('gender 的分布比例：')\n",
    "for plus_value, dist in gender_distribution.items():\n",
    "    print(f'plus 值为 {plus_value} 的用户：')\n",
    "    print(dist)\n"
   ]
  },
  {
   "cell_type": "code",
   "execution_count": 89,
   "metadata": {},
   "outputs": [
    {
     "name": "stdout",
     "output_type": "stream",
     "text": [
      "\n",
      "marital_status 的分布比例：\n",
      "plus 值为 0 的用户：\n",
      "marital_status\n",
      "S    53.747186\n",
      "M    46.252814\n",
      "Name: proportion, dtype: float64\n",
      "plus 值为 1 的用户：\n",
      "marital_status\n",
      "M    66.328047\n",
      "S    33.671953\n",
      "Name: proportion, dtype: float64\n"
     ]
    }
   ],
   "source": [
    "# 计算 marital_status 的分布比例\n",
    "marital_status_distribution = {}\n",
    "for plus_value, group in grouped:\n",
    "    filtered_group = group[group['marital_status'] != 'U']\n",
    "    marital_status_distribution[plus_value] = filtered_group['marital_status'].value_counts(normalize=True) * 100\n",
    "print('\\nmarital_status 的分布比例：')\n",
    "for plus_value, dist in marital_status_distribution.items():\n",
    "    print(f'plus 值为 {plus_value} 的用户：')\n",
    "    print(dist)"
   ]
  },
  {
   "cell_type": "code",
   "execution_count": 88,
   "metadata": {},
   "outputs": [
    {
     "name": "stdout",
     "output_type": "stream",
     "text": [
      "\n",
      "education 的平均水平：\n",
      "plus 值为 0 的用户： 2.7598502122610906\n",
      "plus 值为 1 的用户： 3.2716735307068667\n",
      "\n",
      "education 的分布比例：\n",
      "plus 值为 0 的用户：\n",
      "education\n",
      "3    64.096546\n",
      "2    25.619636\n",
      "4     7.390764\n",
      "1     2.893054\n",
      "Name: proportion, dtype: float64\n",
      "plus 值为 1 的用户：\n",
      "education\n",
      "3    58.318440\n",
      "4    34.655632\n",
      "2     6.563577\n",
      "1     0.462351\n",
      "Name: proportion, dtype: float64\n"
     ]
    }
   ],
   "source": [
    "# 计算 education 的平均水平和分布比例\n",
    "education_avg = {}\n",
    "education_distribution = {}\n",
    "for plus_value, group in grouped:\n",
    "    filtered_group = group[group['education'] != -1]\n",
    "    education_avg[plus_value] = filtered_group['education'].mean()\n",
    "    education_distribution[plus_value] = filtered_group['education'].value_counts(normalize=True) * 100\n",
    "print('\\neducation 的平均水平：')\n",
    "for plus_value, avg in education_avg.items():\n",
    "    print(f'plus 值为 {plus_value} 的用户：', avg)\n",
    "print('\\neducation 的分布比例：')\n",
    "for plus_value, dist in education_distribution.items():\n",
    "    print(f'plus 值为 {plus_value} 的用户：')\n",
    "    print(dist)"
   ]
  },
  {
   "cell_type": "code",
   "execution_count": 87,
   "metadata": {},
   "outputs": [
    {
     "name": "stdout",
     "output_type": "stream",
     "text": [
      "\n",
      "city_level 的分布比例：\n",
      "plus 值为 0 的用户：\n",
      "city_level\n",
      "2    37.434043\n",
      "1    23.778626\n",
      "3    19.446565\n",
      "4    17.668073\n",
      "5     1.672693\n",
      "Name: proportion, dtype: float64\n",
      "plus 值为 1 的用户：\n",
      "city_level\n",
      "2    36.809110\n",
      "1    35.414466\n",
      "3    15.295042\n",
      "4    11.291196\n",
      "5     1.190186\n",
      "Name: proportion, dtype: float64\n"
     ]
    }
   ],
   "source": [
    "# 计算 city_level 的分布比例\n",
    "city_level_distribution = {}\n",
    "for plus_value, group in grouped:\n",
    "    filtered_group = group[group['city_level'] != -1]\n",
    "    city_level_distribution[plus_value] = filtered_group['city_level'].value_counts(normalize=True) * 100\n",
    "print('\\ncity_level 的分布比例：')\n",
    "for plus_value, dist in city_level_distribution.items():\n",
    "    print(f'plus 值为 {plus_value} 的用户：')\n",
    "    print(dist)"
   ]
  },
  {
   "cell_type": "code",
   "execution_count": 65,
   "metadata": {},
   "outputs": [],
   "source": [
    "# 加载新上传的订单数据\n",
    "df_order = pd.read_csv('JD_order_data.csv')\n",
    "\n",
    "# 合并数据，根据 user_ID 匹配 plus 类型\n",
    "merged_df = pd.merge(df_order, df_user[['user_ID', 'plus']], on='user_ID')\n"
   ]
  },
  {
   "cell_type": "code",
   "execution_count": 66,
   "metadata": {},
   "outputs": [
    {
     "name": "stdout",
     "output_type": "stream",
     "text": [
      "   plus    购买次数  购买产品总量         总成交金额  平均每笔交易金额\n",
      "0     0  449314  539806  3.596285e+07     80.04\n",
      "1     1  100675  129349  9.575685e+06     95.11\n"
     ]
    }
   ],
   "source": [
    "merged_df = pd.merge(df_order, df_user[['user_ID', 'plus']], on='user_ID')\n",
    "# 计算单笔成交金额\n",
    "merged_df['transaction_amount'] = merged_df['final_unit_price'] * merged_df['quantity']\n",
    "\n",
    "# 按照 plus 类型分组统计购买次数、购买产品总量和总成交金额\n",
    "grouped = merged_df.groupby('plus').agg(\n",
    "    购买次数=('order_ID', 'count'),\n",
    "    购买产品总量=('quantity', 'sum'),\n",
    "    总成交金额=('transaction_amount', 'sum')\n",
    ").reset_index()\n",
    "\n",
    "# 计算平均每笔交易金额，保留两位小数\n",
    "grouped['平均每笔交易金额'] = (grouped['总成交金额'] / grouped['购买次数']).round(2)\n",
    "\n",
    "print(grouped)"
   ]
  },
  {
   "cell_type": "code",
   "execution_count": 67,
   "metadata": {},
   "outputs": [
    {
     "name": "stdout",
     "output_type": "stream",
     "text": [
      "普通用户和 plus 用户的平均购买频率：\n",
      "plus\n",
      "0    1.199248\n",
      "1    1.254767\n",
      "Name: 购买频率, dtype: float64\n"
     ]
    }
   ],
   "source": [
    "merged_df = pd.merge(df_order, df_user[['user_ID', 'plus']], on='user_ID')\n",
    "# 计算每个用户在一个月内的购买频率\n",
    "user_purchase_frequency = merged_df.groupby(['plus', 'user_ID'])['order_ID'].count().reset_index(\n",
    "    name='购买频率')\n",
    "\n",
    "# 计算普通用户和 plus 用户的平均购买频率\n",
    "average_purchase_frequency = user_purchase_frequency.groupby('plus')['购买频率'].mean()\n",
    "print('普通用户和 plus 用户的平均购买频率：')\n",
    "print(average_purchase_frequency)"
   ]
  },
  {
   "cell_type": "code",
   "execution_count": 68,
   "metadata": {},
   "outputs": [
    {
     "name": "stdout",
     "output_type": "stream",
     "text": [
      "   plus   频率区间    客户数量      比例\n",
      "0     0  0 - 1  322172  85.99%\n",
      "1     0  1 - 3   48431  12.93%\n",
      "2     0  3 - 5    3222   0.86%\n",
      "3     0    > 5     838   0.22%\n",
      "4     1  0 - 1   65876  82.10%\n",
      "5     1  1 - 3   13188  16.44%\n",
      "6     1  3 - 5     842   1.05%\n",
      "7     1    > 5     328   0.41%\n"
     ]
    },
    {
     "name": "stderr",
     "output_type": "stream",
     "text": [
      "/var/folders/kf/5jkg2b7d3xn6kxwrgf243ypm0000gn/T/ipykernel_7819/518367903.py:9: FutureWarning: The default of observed=False is deprecated and will be changed to True in a future version of pandas. Pass observed=False to retain current behavior or observed=True to adopt the future default and silence this warning.\n",
      "  grouped = user_purchase_frequency.groupby(['plus', '频率区间'])['user_ID'].count().reset_index(\n"
     ]
    }
   ],
   "source": [
    "# 定义分组区间\n",
    "bins = [0, 1, 3, 5, float('inf')]\n",
    "labels = ['0 - 1', '1 - 3', '3 - 5','> 5']\n",
    "\n",
    "# 对购买频率进行分组\n",
    "user_purchase_frequency['频率区间'] = pd.cut(user_purchase_frequency['购买频率'], bins=bins, labels=labels)\n",
    "\n",
    "# 计算不同 plus 类型在各区间内的客户数量\n",
    "grouped = user_purchase_frequency.groupby(['plus', '频率区间'])['user_ID'].count().reset_index(\n",
    "    name='客户数量')\n",
    "\n",
    "# 计算不同 plus 类型的总客户数量\n",
    "total_customers_per_plus = grouped.groupby('plus')['客户数量'].sum()\n",
    "\n",
    "# 计算各区间内客户数量的比例，并保留两位小数\n",
    "def calculate_percentage(row):\n",
    "    return f\"{(row['客户数量'] / total_customers_per_plus[row['plus']]) * 100:.2f}%\"\n",
    "\n",
    "grouped['比例'] = grouped.apply(calculate_percentage, axis=1)\n",
    "\n",
    "print(grouped)\n"
   ]
  },
  {
   "cell_type": "code",
   "execution_count": 69,
   "metadata": {},
   "outputs": [
    {
     "name": "stdout",
     "output_type": "stream",
     "text": [
      "549989\n",
      "341406\n",
      "被过滤掉的数据条数为: 208583\n",
      "不同用户类型的平均承诺发货时间：\n",
      "plus\n",
      "0    2.028016\n",
      "1    1.737303\n",
      "Name: promise, dtype: float64\n",
      "\n",
      "不同用户类型下各承诺发货时间值的分布比例：\n",
      "    plus  promise      数量        比例\n",
      "0      0        1  115173  0.437167\n",
      "1      0        2   86238  0.327337\n",
      "2      0        3   27484  0.104322\n",
      "3      0        4   19957  0.075752\n",
      "4      0        5    8632  0.032765\n",
      "5      0        6    2665  0.010116\n",
      "6      0        7    1224  0.004646\n",
      "7      0        8    2080  0.007895\n",
      "8      1        1   42336  0.543096\n",
      "9      1        2   23752  0.304696\n",
      "10     1        3    5692  0.073018\n",
      "11     1        4    3925  0.050351\n",
      "12     1        5    1422  0.018242\n",
      "13     1        6     374  0.004798\n",
      "14     1        7     158  0.002027\n",
      "15     1        8     294  0.003772\n"
     ]
    }
   ],
   "source": [
    "# 合并数据，根据 user_ID 匹配 plus 类型\n",
    "merged_df = pd.merge(df_order, df_user[['user_ID', 'plus']], on='user_ID')\n",
    "\n",
    "# 记录过滤前的数据行数\n",
    "total_rows_before_filter = len(merged_df)\n",
    "print(total_rows_before_filter)\n",
    "\n",
    "# 过滤掉 promise 为 '-' 的数据\n",
    "merged_df = merged_df[merged_df['promise'] != '-']\n",
    "\n",
    "# 记录过滤后的的数据行数\n",
    "total_rows_after_filter = len(merged_df)\n",
    "print(total_rows_after_filter)\n",
    "\n",
    "# 计算被过滤掉的数据条数\n",
    "filtered_rows = total_rows_before_filter - total_rows_after_filter\n",
    "print(f\"被过滤掉的数据条数为: {filtered_rows}\")\n",
    "\n",
    "# 将 promise 列转换为数值类型\n",
    "merged_df['promise'] = pd.to_numeric(merged_df['promise'])\n",
    "\n",
    "# 计算不同用户类型的平均承诺发货时间\n",
    "average_promise = merged_df.groupby('plus')['promise'].mean()\n",
    "\n",
    "# 计算不同用户类型下每个 promise 值的订单数量\n",
    "promise_counts = merged_df.groupby(['plus', 'promise']).size().reset_index(name='数量')\n",
    "\n",
    "# 计算不同用户类型的总订单数量\n",
    "total_orders_per_plus = merged_df.groupby('plus').size()\n",
    "\n",
    "# 计算每个 promise 值在对应用户类型中的比例\n",
    "promise_counts['比例'] = promise_counts.apply(lambda row: row['数量'] / total_orders_per_plus[row['plus']], axis=1)\n",
    "\n",
    "print(\"不同用户类型的平均承诺发货时间：\")\n",
    "print(average_promise)\n",
    "print(\"\\n不同用户类型下各承诺发货时间值的分布比例：\")\n",
    "print(promise_counts)\n",
    "    "
   ]
  },
  {
   "cell_type": "code",
   "execution_count": 70,
   "metadata": {},
   "outputs": [
    {
     "name": "stdout",
     "output_type": "stream",
     "text": [
      "\n",
      "不同用户类型购买不同 type 商品的数量占比：\n",
      "   plus  type  quantity      数量占比\n",
      "0     0     1    249412  0.462040\n",
      "1     0     2    290394  0.537960\n",
      "2     1     1     89546  0.692282\n",
      "3     1     2     39803  0.307718\n",
      "\n",
      "不同用户类型购买不同 type 商品的金额占比：\n",
      "   plus  type  transaction_amount      金额占比\n",
      "0     0     1        2.019582e+07  0.561575\n",
      "1     0     2        1.576702e+07  0.438425\n",
      "2     1     1        7.263573e+06  0.758543\n",
      "3     1     2        2.312112e+06  0.241457\n"
     ]
    }
   ],
   "source": [
    "# 合并数据，根据 user_ID 匹配 plus 类型\n",
    "merged_df = pd.merge(df_order, df_user[['user_ID', 'plus']], on='user_ID')\n",
    "merged_df['transaction_amount'] = merged_df['final_unit_price'] * merged_df['quantity']\n",
    "# 计算不同用户类型购买不同 type 商品的数量\n",
    "type_quantity = merged_df.groupby(['plus', 'type'])['quantity'].sum().reset_index()\n",
    "\n",
    "# 计算不同用户类型购买商品的总数量\n",
    "total_quantity_per_plus = merged_df.groupby('plus')['quantity'].sum()\n",
    "\n",
    "# 计算不同用户类型购买不同 type 商品数量的占比\n",
    "type_quantity['数量占比'] = type_quantity.apply(lambda row: row['quantity'] / total_quantity_per_plus[row['plus']], axis=1)\n",
    "\n",
    "# 计算不同用户类型购买不同 type 商品的金额\n",
    "type_amount = merged_df.groupby(['plus', 'type'])['transaction_amount'].sum().reset_index()\n",
    "\n",
    "# 计算不同用户类型购买商品的总金额\n",
    "total_amount_per_plus = merged_df.groupby('plus')['transaction_amount'].sum()\n",
    "\n",
    "# 计算不同用户类型购买不同 type 商品金额的占比\n",
    "type_amount['金额占比'] = type_amount.apply(lambda row: row['transaction_amount'] / total_amount_per_plus[row['plus']], axis=1)\n",
    "\n",
    "print(\"\\n不同用户类型购买不同 type 商品的数量占比：\")\n",
    "print(type_quantity)\n",
    "print(\"\\n不同用户类型购买不同 type 商品的金额占比：\")\n",
    "print(type_amount)"
   ]
  },
  {
   "cell_type": "code",
   "execution_count": 71,
   "metadata": {},
   "outputs": [
    {
     "name": "stdout",
     "output_type": "stream",
     "text": [
      "\n",
      "普通用户和 plus 用户的折扣敏感度：\n",
      "plus\n",
      "0    0.297034\n",
      "1    0.329050\n",
      "dtype: float64\n"
     ]
    }
   ],
   "source": [
    "# 计算折扣差值总和和原始价格总和 数值越高则代表消费折扣品的比例越大，折扣敏感度越高\n",
    "merged_df['price_difference'] = merged_df['original_unit_price'] - merged_df['final_unit_price']\n",
    "price_difference_sum = merged_df.groupby('plus')['price_difference'].sum()\n",
    "original_price_sum = merged_df.groupby('plus')['original_unit_price'].sum()\n",
    "\n",
    "# 计算折扣敏感度\n",
    "discount_sensitivity = price_difference_sum / original_price_sum\n",
    "\n",
    "print(\"\\n普通用户和 plus 用户的折扣敏感度：\")\n",
    "print(discount_sensitivity)\n",
    "total_rows_after_filter = len(merged_df)\n",
    "#print(total_rows_after_filter)"
   ]
  },
  {
   "cell_type": "code",
   "execution_count": 72,
   "metadata": {},
   "outputs": [
    {
     "ename": "ValueError",
     "evalue": "Time data 10:40.0 is not ISO8601 format, at position 1. You might want to try:\n    - passing `format` if your strings have a consistent format;\n    - passing `format='ISO8601'` if your strings are all ISO8601 but not necessarily in exactly the same format;\n    - passing `format='mixed'`, and the format will be inferred for each element individually. You might want to use `dayfirst` alongside this.",
     "output_type": "error",
     "traceback": [
      "\u001b[0;31m---------------------------------------------------------------------------\u001b[0m",
      "\u001b[0;31mValueError\u001b[0m                                Traceback (most recent call last)",
      "Cell \u001b[0;32mIn[72], line 2\u001b[0m\n\u001b[1;32m      1\u001b[0m \u001b[38;5;66;03m# 确保 order_time 列是 datetime 类型，指定正确的格式\u001b[39;00m\n\u001b[0;32m----> 2\u001b[0m merged_df[\u001b[38;5;124m'\u001b[39m\u001b[38;5;124morder_time\u001b[39m\u001b[38;5;124m'\u001b[39m] \u001b[38;5;241m=\u001b[39m pd\u001b[38;5;241m.\u001b[39mto_datetime(merged_df[\u001b[38;5;124m'\u001b[39m\u001b[38;5;124morder_time\u001b[39m\u001b[38;5;124m'\u001b[39m], \u001b[38;5;28mformat\u001b[39m\u001b[38;5;241m=\u001b[39m\u001b[38;5;124m'\u001b[39m\u001b[38;5;124mISO8601\u001b[39m\u001b[38;5;124m'\u001b[39m)\n\u001b[1;32m      4\u001b[0m \u001b[38;5;66;03m# 定义函数判断时间段\u001b[39;00m\n\u001b[1;32m      5\u001b[0m \u001b[38;5;28;01mdef\u001b[39;00m \u001b[38;5;21mget_time_period\u001b[39m(hour):\n",
      "File \u001b[0;32m/opt/anaconda3/lib/python3.12/site-packages/pandas/core/tools/datetimes.py:1067\u001b[0m, in \u001b[0;36mto_datetime\u001b[0;34m(arg, errors, dayfirst, yearfirst, utc, format, exact, unit, infer_datetime_format, origin, cache)\u001b[0m\n\u001b[1;32m   1065\u001b[0m         result \u001b[38;5;241m=\u001b[39m arg\u001b[38;5;241m.\u001b[39mmap(cache_array)\n\u001b[1;32m   1066\u001b[0m     \u001b[38;5;28;01melse\u001b[39;00m:\n\u001b[0;32m-> 1067\u001b[0m         values \u001b[38;5;241m=\u001b[39m convert_listlike(arg\u001b[38;5;241m.\u001b[39m_values, \u001b[38;5;28mformat\u001b[39m)\n\u001b[1;32m   1068\u001b[0m         result \u001b[38;5;241m=\u001b[39m arg\u001b[38;5;241m.\u001b[39m_constructor(values, index\u001b[38;5;241m=\u001b[39marg\u001b[38;5;241m.\u001b[39mindex, name\u001b[38;5;241m=\u001b[39marg\u001b[38;5;241m.\u001b[39mname)\n\u001b[1;32m   1069\u001b[0m \u001b[38;5;28;01melif\u001b[39;00m \u001b[38;5;28misinstance\u001b[39m(arg, (ABCDataFrame, abc\u001b[38;5;241m.\u001b[39mMutableMapping)):\n",
      "File \u001b[0;32m/opt/anaconda3/lib/python3.12/site-packages/pandas/core/tools/datetimes.py:433\u001b[0m, in \u001b[0;36m_convert_listlike_datetimes\u001b[0;34m(arg, format, name, utc, unit, errors, dayfirst, yearfirst, exact)\u001b[0m\n\u001b[1;32m    431\u001b[0m \u001b[38;5;66;03m# `format` could be inferred, or user didn't ask for mixed-format parsing.\u001b[39;00m\n\u001b[1;32m    432\u001b[0m \u001b[38;5;28;01mif\u001b[39;00m \u001b[38;5;28mformat\u001b[39m \u001b[38;5;129;01mis\u001b[39;00m \u001b[38;5;129;01mnot\u001b[39;00m \u001b[38;5;28;01mNone\u001b[39;00m \u001b[38;5;129;01mand\u001b[39;00m \u001b[38;5;28mformat\u001b[39m \u001b[38;5;241m!=\u001b[39m \u001b[38;5;124m\"\u001b[39m\u001b[38;5;124mmixed\u001b[39m\u001b[38;5;124m\"\u001b[39m:\n\u001b[0;32m--> 433\u001b[0m     \u001b[38;5;28;01mreturn\u001b[39;00m _array_strptime_with_fallback(arg, name, utc, \u001b[38;5;28mformat\u001b[39m, exact, errors)\n\u001b[1;32m    435\u001b[0m result, tz_parsed \u001b[38;5;241m=\u001b[39m objects_to_datetime64(\n\u001b[1;32m    436\u001b[0m     arg,\n\u001b[1;32m    437\u001b[0m     dayfirst\u001b[38;5;241m=\u001b[39mdayfirst,\n\u001b[0;32m   (...)\u001b[0m\n\u001b[1;32m    441\u001b[0m     allow_object\u001b[38;5;241m=\u001b[39m\u001b[38;5;28;01mTrue\u001b[39;00m,\n\u001b[1;32m    442\u001b[0m )\n\u001b[1;32m    444\u001b[0m \u001b[38;5;28;01mif\u001b[39;00m tz_parsed \u001b[38;5;129;01mis\u001b[39;00m \u001b[38;5;129;01mnot\u001b[39;00m \u001b[38;5;28;01mNone\u001b[39;00m:\n\u001b[1;32m    445\u001b[0m     \u001b[38;5;66;03m# We can take a shortcut since the datetime64 numpy array\u001b[39;00m\n\u001b[1;32m    446\u001b[0m     \u001b[38;5;66;03m# is in UTC\u001b[39;00m\n",
      "File \u001b[0;32m/opt/anaconda3/lib/python3.12/site-packages/pandas/core/tools/datetimes.py:467\u001b[0m, in \u001b[0;36m_array_strptime_with_fallback\u001b[0;34m(arg, name, utc, fmt, exact, errors)\u001b[0m\n\u001b[1;32m    456\u001b[0m \u001b[38;5;28;01mdef\u001b[39;00m \u001b[38;5;21m_array_strptime_with_fallback\u001b[39m(\n\u001b[1;32m    457\u001b[0m     arg,\n\u001b[1;32m    458\u001b[0m     name,\n\u001b[0;32m   (...)\u001b[0m\n\u001b[1;32m    462\u001b[0m     errors: \u001b[38;5;28mstr\u001b[39m,\n\u001b[1;32m    463\u001b[0m ) \u001b[38;5;241m-\u001b[39m\u001b[38;5;241m>\u001b[39m Index:\n\u001b[1;32m    464\u001b[0m \u001b[38;5;250m    \u001b[39m\u001b[38;5;124;03m\"\"\"\u001b[39;00m\n\u001b[1;32m    465\u001b[0m \u001b[38;5;124;03m    Call array_strptime, with fallback behavior depending on 'errors'.\u001b[39;00m\n\u001b[1;32m    466\u001b[0m \u001b[38;5;124;03m    \"\"\"\u001b[39;00m\n\u001b[0;32m--> 467\u001b[0m     result, tz_out \u001b[38;5;241m=\u001b[39m array_strptime(arg, fmt, exact\u001b[38;5;241m=\u001b[39mexact, errors\u001b[38;5;241m=\u001b[39merrors, utc\u001b[38;5;241m=\u001b[39mutc)\n\u001b[1;32m    468\u001b[0m     \u001b[38;5;28;01mif\u001b[39;00m tz_out \u001b[38;5;129;01mis\u001b[39;00m \u001b[38;5;129;01mnot\u001b[39;00m \u001b[38;5;28;01mNone\u001b[39;00m:\n\u001b[1;32m    469\u001b[0m         unit \u001b[38;5;241m=\u001b[39m np\u001b[38;5;241m.\u001b[39mdatetime_data(result\u001b[38;5;241m.\u001b[39mdtype)[\u001b[38;5;241m0\u001b[39m]\n",
      "File \u001b[0;32mstrptime.pyx:501\u001b[0m, in \u001b[0;36mpandas._libs.tslibs.strptime.array_strptime\u001b[0;34m()\u001b[0m\n",
      "File \u001b[0;32mstrptime.pyx:449\u001b[0m, in \u001b[0;36mpandas._libs.tslibs.strptime.array_strptime\u001b[0;34m()\u001b[0m\n",
      "\u001b[0;31mValueError\u001b[0m: Time data 10:40.0 is not ISO8601 format, at position 1. You might want to try:\n    - passing `format` if your strings have a consistent format;\n    - passing `format='ISO8601'` if your strings are all ISO8601 but not necessarily in exactly the same format;\n    - passing `format='mixed'`, and the format will be inferred for each element individually. You might want to use `dayfirst` alongside this."
     ]
    }
   ],
   "source": [
    "# 确保 order_time 列是 datetime 类型，指定正确的格式\n",
    "merged_df['order_time'] = pd.to_datetime(merged_df['order_time'], format='ISO8601')\n",
    "\n",
    "# 定义函数判断时间段\n",
    "def get_time_period(hour):\n",
    "    if 6 <= hour < 12:\n",
    "        return '早上'\n",
    "    elif 12 <= hour < 14:\n",
    "        return '中午'\n",
    "    elif 14 <= hour < 18:\n",
    "        return '下午'\n",
    "    else:\n",
    "        return '晚上'\n",
    "\n",
    "# 从 order_time 中提取小时信息\n",
    "merged_df['hour'] = merged_df['order_time'].dt.hour\n",
    "\n",
    "# 添加新列表示时间段\n",
    "merged_df['time_period'] = merged_df['hour'].apply(get_time_period)\n",
    "\n",
    "# 计算不同用户类型在不同时间段下单的数量\n",
    "time_period_count = merged_df.groupby(['plus', 'time_period']).size().reset_index(name='下单数量')\n",
    "\n",
    "# 计算不同用户类型的总下单数量\n",
    "total_orders_per_plus = merged_df.groupby('plus').size()\n",
    "\n",
    "# 计算不同用户类型在不同时间段下单的比例\n",
    "time_period_count['下单比例'] = time_period_count.apply(lambda row: row['下单数量'] / total_orders_per_plus[row['plus']], axis=1)\n",
    "\n",
    "print(\"\\n不同用户类型在不同时间段下单的比例：\")\n",
    "print(time_period_count)\n",
    "    "
   ]
  },
  {
   "cell_type": "code",
   "execution_count": 56,
   "metadata": {},
   "outputs": [
    {
     "name": "stdout",
     "output_type": "stream",
     "text": [
      "\n",
      "不同用户类型下单产品中有赠品和无赠品的订单数量和比例：\n",
      "   plus 是否有赠品    订单数量      订单比例\n",
      "0     0   无赠品  369137  0.821557\n",
      "1     0   有赠品   80177  0.178443\n",
      "2     1   无赠品   86246  0.856677\n",
      "3     1   有赠品   14429  0.143323\n"
     ]
    }
   ],
   "source": [
    "# 统计普通用户和plus用户下单产品中，有gift和没gift的订单数量\n",
    "gift_count = merged_df.groupby(['plus', 'gift_item']).size().reset_index(name='订单数量')\n",
    "gift_count['是否有赠品'] = gift_count['gift_item'].map({1: '有赠品', 0: '无赠品'})\n",
    "\n",
    "# 计算不同用户类型下有赠品和无赠品订单的比例\n",
    "gift_count['订单比例'] = gift_count.apply(lambda row: row['订单数量'] / total_orders_per_plus[row['plus']], axis=1)\n",
    "\n",
    "# 调整列的顺序\n",
    "gift_count = gift_count[['plus', '是否有赠品', '订单数量', '订单比例']]\n",
    "\n",
    "print(\"\\n不同用户类型下单产品中有赠品和无赠品的订单数量和比例：\")\n",
    "print(gift_count)"
   ]
  },
  {
   "cell_type": "code",
   "execution_count": null,
   "metadata": {},
   "outputs": [],
   "source": []
  }
 ],
 "metadata": {
  "kernelspec": {
   "display_name": "base",
   "language": "python",
   "name": "python3"
  },
  "language_info": {
   "codemirror_mode": {
    "name": "ipython",
    "version": 3
   },
   "file_extension": ".py",
   "mimetype": "text/x-python",
   "name": "python",
   "nbconvert_exporter": "python",
   "pygments_lexer": "ipython3",
   "version": "3.12.7"
  }
 },
 "nbformat": 4,
 "nbformat_minor": 2
}
